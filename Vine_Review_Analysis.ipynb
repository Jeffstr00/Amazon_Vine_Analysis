{
  "nbformat": 4,
  "nbformat_minor": 0,
  "metadata": {
    "colab": {
      "name": "Vine_Review_Analysis.ipynb",
      "provenance": [],
      "collapsed_sections": [],
      "authorship_tag": "ABX9TyMRUv/lN2nD0vVYGmJOl39B",
      "include_colab_link": true
    },
    "kernelspec": {
      "name": "python3",
      "display_name": "Python 3"
    },
    "language_info": {
      "name": "python"
    }
  },
  "cells": [
    {
      "cell_type": "markdown",
      "metadata": {
        "id": "view-in-github",
        "colab_type": "text"
      },
      "source": [
        "<a href=\"https://colab.research.google.com/github/Jeffstr00/Amazon_Vine_Analysis/blob/main/Vine_Review_Analysis.ipynb\" target=\"_parent\"><img src=\"https://colab.research.google.com/assets/colab-badge.svg\" alt=\"Open In Colab\"/></a>"
      ]
    },
    {
      "cell_type": "code",
      "execution_count": 1,
      "metadata": {
        "colab": {
          "base_uri": "https://localhost:8080/"
        },
        "id": "5CZIIsCPOBeH",
        "outputId": "33ecf5ed-1fc1-481a-b2ef-8521bbe94c06"
      },
      "outputs": [
        {
          "output_type": "stream",
          "name": "stdout",
          "text": [
            "Get:1 https://cloud.r-project.org/bin/linux/ubuntu bionic-cran40/ InRelease [3,626 B]\n",
            "Ign:2 https://developer.download.nvidia.com/compute/cuda/repos/ubuntu1804/x86_64  InRelease\n",
            "Hit:3 http://archive.ubuntu.com/ubuntu bionic InRelease\n",
            "Get:4 http://security.ubuntu.com/ubuntu bionic-security InRelease [88.7 kB]\n",
            "Ign:5 https://developer.download.nvidia.com/compute/machine-learning/repos/ubuntu1804/x86_64  InRelease\n",
            "Get:6 https://developer.download.nvidia.com/compute/cuda/repos/ubuntu1804/x86_64  Release [696 B]\n",
            "Hit:7 https://developer.download.nvidia.com/compute/machine-learning/repos/ubuntu1804/x86_64  Release\n",
            "Get:8 https://developer.download.nvidia.com/compute/cuda/repos/ubuntu1804/x86_64  Release.gpg [836 B]\n",
            "Get:9 http://ppa.launchpad.net/c2d4u.team/c2d4u4.0+/ubuntu bionic InRelease [15.9 kB]\n",
            "Get:10 http://archive.ubuntu.com/ubuntu bionic-updates InRelease [88.7 kB]\n",
            "Hit:11 http://ppa.launchpad.net/cran/libgit2/ubuntu bionic InRelease\n",
            "Get:12 http://archive.ubuntu.com/ubuntu bionic-backports InRelease [74.6 kB]\n",
            "Get:13 https://cloud.r-project.org/bin/linux/ubuntu bionic-cran40/ Packages [82.3 kB]\n",
            "Get:14 http://ppa.launchpad.net/deadsnakes/ppa/ubuntu bionic InRelease [15.9 kB]\n",
            "Get:15 http://ppa.launchpad.net/graphics-drivers/ppa/ubuntu bionic InRelease [21.3 kB]\n",
            "Get:17 https://developer.download.nvidia.com/compute/cuda/repos/ubuntu1804/x86_64  Packages [951 kB]\n",
            "Get:18 http://ppa.launchpad.net/c2d4u.team/c2d4u4.0+/ubuntu bionic/main Sources [1,831 kB]\n",
            "Get:19 http://security.ubuntu.com/ubuntu bionic-security/main amd64 Packages [2,693 kB]\n",
            "Get:20 http://ppa.launchpad.net/c2d4u.team/c2d4u4.0+/ubuntu bionic/main amd64 Packages [938 kB]\n",
            "Get:21 http://archive.ubuntu.com/ubuntu bionic-updates/restricted amd64 Packages [918 kB]\n",
            "Get:22 http://security.ubuntu.com/ubuntu bionic-security/universe amd64 Packages [1,489 kB]\n",
            "Get:23 http://security.ubuntu.com/ubuntu bionic-security/restricted amd64 Packages [884 kB]\n",
            "Get:24 http://archive.ubuntu.com/ubuntu bionic-updates/main amd64 Packages [3,132 kB]\n",
            "Get:25 http://archive.ubuntu.com/ubuntu bionic-updates/multiverse amd64 Packages [29.8 kB]\n",
            "Get:26 http://archive.ubuntu.com/ubuntu bionic-updates/universe amd64 Packages [2,267 kB]\n",
            "Get:27 http://archive.ubuntu.com/ubuntu bionic-backports/main amd64 Packages [12.2 kB]\n",
            "Get:28 http://archive.ubuntu.com/ubuntu bionic-backports/universe amd64 Packages [12.9 kB]\n",
            "Get:29 http://ppa.launchpad.net/deadsnakes/ppa/ubuntu bionic/main amd64 Packages [45.3 kB]\n",
            "Get:30 http://ppa.launchpad.net/graphics-drivers/ppa/ubuntu bionic/main amd64 Packages [44.3 kB]\n",
            "Fetched 15.6 MB in 6s (2,827 kB/s)\n",
            "Reading package lists... Done\n"
          ]
        }
      ],
      "source": [
        "import os\n",
        "# Find the latest version of spark 3.0 from http://www.apache.org/dist/spark/ and enter as the spark version\n",
        "# For example:\n",
        "# spark_version = 'spark-3.0.3'\n",
        "spark_version = 'spark-3.0.3'\n",
        "os.environ['SPARK_VERSION']=spark_version\n",
        "\n",
        "# Install Spark and Java\n",
        "!apt-get update\n",
        "!apt-get install openjdk-11-jdk-headless -qq > /dev/null\n",
        "!wget -q http://www.apache.org/dist/spark/$SPARK_VERSION/$SPARK_VERSION-bin-hadoop2.7.tgz\n",
        "!tar xf $SPARK_VERSION-bin-hadoop2.7.tgz\n",
        "!pip install -q findspark\n",
        "\n",
        "# Set Environment Variables\n",
        "import os\n",
        "os.environ[\"JAVA_HOME\"] = \"/usr/lib/jvm/java-11-openjdk-amd64\"\n",
        "os.environ[\"SPARK_HOME\"] = f\"/content/{spark_version}-bin-hadoop2.7\"\n",
        "\n",
        "# Start a SparkSession\n",
        "import findspark\n",
        "findspark.init()"
      ]
    },
    {
      "cell_type": "code",
      "source": [
        "# Download the Postgres driver that will allow Spark to interact with Postgres.\n",
        "!wget https://jdbc.postgresql.org/download/postgresql-42.2.16.jar"
      ],
      "metadata": {
        "colab": {
          "base_uri": "https://localhost:8080/"
        },
        "id": "dLJ6PFZROfeZ",
        "outputId": "9514446d-5ac6-451a-c09c-9c0c6e7418ab"
      },
      "execution_count": 2,
      "outputs": [
        {
          "output_type": "stream",
          "name": "stdout",
          "text": [
            "--2022-04-05 19:36:25--  https://jdbc.postgresql.org/download/postgresql-42.2.16.jar\n",
            "Resolving jdbc.postgresql.org (jdbc.postgresql.org)... 72.32.157.228, 2001:4800:3e1:1::228\n",
            "Connecting to jdbc.postgresql.org (jdbc.postgresql.org)|72.32.157.228|:443... connected.\n",
            "HTTP request sent, awaiting response... 200 OK\n",
            "Length: 1002883 (979K) [application/java-archive]\n",
            "Saving to: ‘postgresql-42.2.16.jar’\n",
            "\n",
            "postgresql-42.2.16. 100%[===================>] 979.38K  --.-KB/s    in 0.1s    \n",
            "\n",
            "2022-04-05 19:36:25 (6.49 MB/s) - ‘postgresql-42.2.16.jar’ saved [1002883/1002883]\n",
            "\n"
          ]
        }
      ]
    },
    {
      "cell_type": "code",
      "source": [
        "# Import SparkSession\n",
        "from pyspark.sql import SparkSession\n",
        "spark = SparkSession.builder.appName(\"M16-Amazon-Challenge\").config(\"spark.driver.extraClassPath\",\"/content/postgresql-42.2.16.jar\").getOrCreate()"
      ],
      "metadata": {
        "id": "yRL8xrMDO0uj"
      },
      "execution_count": 3,
      "outputs": []
    },
    {
      "cell_type": "code",
      "source": [
        "# Read in the review set from S3 as a DataFrame\n",
        "from pyspark import SparkFiles\n",
        "url = \"https://jeffstr00-bucket.s3.amazonaws.com/amazon_reviews_us_Books_v1_00.tsv\"\n",
        "spark.sparkContext.addFile(url)\n",
        "df = spark.read.option(\"encoding\", \"UTF-8\").csv(SparkFiles.get(\"\"), sep=\"\\t\", header=True, inferSchema=True)\n",
        "df.show()"
      ],
      "metadata": {
        "colab": {
          "base_uri": "https://localhost:8080/"
        },
        "id": "JZ-WXynCO8vx",
        "outputId": "0f51630d-71d0-4203-bb4c-fad0eaab03d5"
      },
      "execution_count": 4,
      "outputs": [
        {
          "output_type": "stream",
          "name": "stdout",
          "text": [
            "+-----------+-----------+--------------+----------+--------------+--------------------+----------------+-----------+-------------+-----------+----+-----------------+--------------------+--------------------+-----------+\n",
            "|marketplace|customer_id|     review_id|product_id|product_parent|       product_title|product_category|star_rating|helpful_votes|total_votes|vine|verified_purchase|     review_headline|         review_body|review_date|\n",
            "+-----------+-----------+--------------+----------+--------------+--------------------+----------------+-----------+-------------+-----------+----+-----------------+--------------------+--------------------+-----------+\n",
            "|         US|   25933450| RJOVP071AVAJO|0439873800|      84656342|There Was an Old ...|           Books|          5|            0|          0|   N|                Y|          Five Stars|I love it and so ...| 2015-08-31|\n",
            "|         US|    1801372|R1ORGBETCDW3AI|1623953553|     729938122|      I Saw a Friend|           Books|          5|            0|          0|   N|                Y|Please buy \"I Saw...|My wife and I ord...| 2015-08-31|\n",
            "|         US|    5782091| R7TNRFQAOUTX5|142151981X|     678139048|Black Lagoon, Vol. 6|           Books|          5|            0|          0|   N|                Y|       Shipped fast.|Great book just l...| 2015-08-31|\n",
            "|         US|   32715830|R2GANXKDIFZ6OI|014241543X|     712432151|           If I Stay|           Books|          5|            0|          0|   N|                N|          Five Stars|        So beautiful| 2015-08-31|\n",
            "|         US|   14005703|R2NYB6C3R8LVN6|1604600527|     800572372|Stars 'N Strips F...|           Books|          5|            2|          2|   N|                Y|          Five Stars|Enjoyed the autho...| 2015-08-31|\n",
            "|         US|   36205738|R13U5PBJI1H94K|0399170863|     559876774|            The Liar|           Books|          2|            1|          1|   N|                N|PREDICTABLE ALMOS...|Two or three page...| 2015-08-31|\n",
            "|         US|   44121167|R1H8UVH990F8VE|1517007240|     299984591|Devil in the Deta...|           Books|          5|            2|          2|   N|                N|The Monastery Mur...|&#34;Secrets in t...| 2015-08-31|\n",
            "|         US|   16519255|R2MC0N30WZMRQ5|0671728725|     821650353|Knowing When to S...|           Books|          5|            0|          0|   N|                Y|          Five Stars|          I love it!| 2015-08-31|\n",
            "|         US|   49361350| R2NO2HXK16Y4J|1111349533|     419457767|The American Pageant|           Books|          5|            0|          0|   N|                Y|          Five Stars|It was a great pu...| 2015-08-31|\n",
            "|         US|   11423253|R245YIAVJK82ZL|812211637X|     285887177|Punjabi C.L. Bibl...|           Books|          5|            0|          0|   N|                Y|          Five Stars|Quality product f...| 2015-08-31|\n",
            "|         US|   37536260| RFBMLBWQOZ1UM|0679413359|      58983679|The Aeneid (Every...|           Books|          5|            0|          0|   N|                Y|          Five Stars|          Very happy| 2015-08-31|\n",
            "|         US|   23614950| RHE1FEWV3KTQH|0983990662|     222024699|The YMCA of Middl...|           Books|          5|            0|          0|   N|                Y|Great history boo...|Love reading all ...| 2015-08-31|\n",
            "|         US|   12641855|R2BB9U7PHO7ETO|156852062X|     388128348|Memoirs By Harry ...|           Books|          5|            0|          1|   N|                Y|          Five Stars|such a great purc...| 2015-08-31|\n",
            "|         US|   36327169|R28XJJP754GYXO|B0007E4WJ4|     842975364|Arms of our fight...|           Books|          4|            0|          0|   N|                Y|          Four Stars|book was fine Tha...| 2015-08-31|\n",
            "|         US|   49735028|R2G519UREHRO8M|0664254969|     248307276|Presbyterian Cree...|           Books|          3|            0|          1|   N|                Y|The Presbyterian ...|The Presbyterian ...| 2015-08-31|\n",
            "|         US|   39348901| RPBKCEIN3UISD|1570913722|       9340721|Hello Ocean/Hola mar|           Books|          5|            0|          0|   N|                Y|          Five Stars|beautiful work an...| 2015-08-31|\n",
            "|         US|    5782091|R2DOB8482VGJ8W|0345313860|     630892090|The Vampire Lesta...|           Books|          5|            0|          0|   N|                Y|       Shipped fast.|This is my favori...| 2015-08-31|\n",
            "|         US|   30063158|R2XKOET5M8W36S|0670025593|     479521754|The Book of Life ...|           Books|          5|            0|          0|   N|                Y|One of my favorites!|Love Deborah Harn...| 2015-08-31|\n",
            "|         US|     125518|R377BCSTZ4D2QP|161893158X|     399670838|Disney Descendant...|           Books|          5|            1|          1|   N|                Y|... has all three...|Now my daughter h...| 2015-08-31|\n",
            "|         US|   22297413|R3A39XZ5SB97MK|007179512X|      47243107|CompTIA A+ Certif...|           Books|          5|            0|          0|   N|                Y|He said it has be...|Bought this book ...| 2015-08-31|\n",
            "+-----------+-----------+--------------+----------+--------------+--------------------+----------------+-----------+-------------+-----------+----+-----------------+--------------------+--------------------+-----------+\n",
            "only showing top 20 rows\n",
            "\n"
          ]
        }
      ]
    },
    {
      "cell_type": "code",
      "source": [
        "# Change Star Rating column from string to integer\n",
        "from pyspark.sql.types import IntegerType\n",
        "df = df.withColumn(\"star_ratingTmp\", df[\"star_rating\"].cast(IntegerType())).drop(\"star_rating\").withColumnRenamed(\"star_ratingTmp\", \"star_rating\")\n",
        "# Rearrange columns so that Star Rating is back in place\n",
        "df = df.select(\"marketplace\", \"customer_id\", \"review_id\", \"product_id\", \"product_parent\", \"product_title\", \"product_category\", \"star_rating\", \"helpful_votes\", \"total_votes\", \"vine\", \"verified_purchase\", \"review_headline\", \"review_body\", \"review_date\")\n",
        "df.schema"
      ],
      "metadata": {
        "colab": {
          "base_uri": "https://localhost:8080/"
        },
        "id": "nZLh3WvFPNCe",
        "outputId": "abfda4f1-e678-4249-9972-6336e070dcd1"
      },
      "execution_count": 5,
      "outputs": [
        {
          "output_type": "execute_result",
          "data": {
            "text/plain": [
              "StructType(List(StructField(marketplace,StringType,true),StructField(customer_id,IntegerType,true),StructField(review_id,StringType,true),StructField(product_id,StringType,true),StructField(product_parent,IntegerType,true),StructField(product_title,StringType,true),StructField(product_category,StringType,true),StructField(star_rating,IntegerType,true),StructField(helpful_votes,IntegerType,true),StructField(total_votes,IntegerType,true),StructField(vine,StringType,true),StructField(verified_purchase,StringType,true),StructField(review_headline,StringType,true),StructField(review_body,StringType,true),StructField(review_date,StringType,true)))"
            ]
          },
          "metadata": {},
          "execution_count": 5
        }
      ]
    },
    {
      "cell_type": "code",
      "source": [
        "# Create the vine_table. DataFrame\n",
        "# vine_df = df.select([])\n",
        "vine_df = df.select([\"review_id\", \"star_rating\", \"helpful_votes\", \"total_votes\", \"vine\", \"verified_purchase\"])\n",
        "vine_df.show()"
      ],
      "metadata": {
        "colab": {
          "base_uri": "https://localhost:8080/"
        },
        "id": "N6jYAYMgPhdB",
        "outputId": "c21ebb6c-0069-4601-d812-1caab7c2ebb0"
      },
      "execution_count": 6,
      "outputs": [
        {
          "output_type": "stream",
          "name": "stdout",
          "text": [
            "+--------------+-----------+-------------+-----------+----+-----------------+\n",
            "|     review_id|star_rating|helpful_votes|total_votes|vine|verified_purchase|\n",
            "+--------------+-----------+-------------+-----------+----+-----------------+\n",
            "| RJOVP071AVAJO|          5|            0|          0|   N|                Y|\n",
            "|R1ORGBETCDW3AI|          5|            0|          0|   N|                Y|\n",
            "| R7TNRFQAOUTX5|          5|            0|          0|   N|                Y|\n",
            "|R2GANXKDIFZ6OI|          5|            0|          0|   N|                N|\n",
            "|R2NYB6C3R8LVN6|          5|            2|          2|   N|                Y|\n",
            "|R13U5PBJI1H94K|          2|            1|          1|   N|                N|\n",
            "|R1H8UVH990F8VE|          5|            2|          2|   N|                N|\n",
            "|R2MC0N30WZMRQ5|          5|            0|          0|   N|                Y|\n",
            "| R2NO2HXK16Y4J|          5|            0|          0|   N|                Y|\n",
            "|R245YIAVJK82ZL|          5|            0|          0|   N|                Y|\n",
            "| RFBMLBWQOZ1UM|          5|            0|          0|   N|                Y|\n",
            "| RHE1FEWV3KTQH|          5|            0|          0|   N|                Y|\n",
            "|R2BB9U7PHO7ETO|          5|            0|          1|   N|                Y|\n",
            "|R28XJJP754GYXO|          4|            0|          0|   N|                Y|\n",
            "|R2G519UREHRO8M|          3|            0|          1|   N|                Y|\n",
            "| RPBKCEIN3UISD|          5|            0|          0|   N|                Y|\n",
            "|R2DOB8482VGJ8W|          5|            0|          0|   N|                Y|\n",
            "|R2XKOET5M8W36S|          5|            0|          0|   N|                Y|\n",
            "|R377BCSTZ4D2QP|          5|            1|          1|   N|                Y|\n",
            "|R3A39XZ5SB97MK|          5|            0|          0|   N|                Y|\n",
            "+--------------+-----------+-------------+-----------+----+-----------------+\n",
            "only showing top 20 rows\n",
            "\n"
          ]
        }
      ]
    },
    {
      "cell_type": "code",
      "source": [
        "# count number of rows in Vine DF to ensure that everything loaded properly\n",
        "vine_df.count()"
      ],
      "metadata": {
        "colab": {
          "base_uri": "https://localhost:8080/"
        },
        "id": "7Y-smfTSPmZP",
        "outputId": "d86f4501-df30-43f2-f27e-8f78191c3143"
      },
      "execution_count": 7,
      "outputs": [
        {
          "output_type": "execute_result",
          "data": {
            "text/plain": [
              "10319090"
            ]
          },
          "metadata": {},
          "execution_count": 7
        }
      ]
    },
    {
      "cell_type": "code",
      "source": [
        "# filter data to retrieve all rows where total_votes is greater or equal to 20\n",
        "substantial_df = vine_df.filter(\"total_votes>=20\")\n",
        "substantial_df.show()"
      ],
      "metadata": {
        "colab": {
          "base_uri": "https://localhost:8080/"
        },
        "id": "0IaOsNMcR_wS",
        "outputId": "5dc5b082-6108-4e62-ad3c-52dd99efad03"
      },
      "execution_count": 8,
      "outputs": [
        {
          "output_type": "stream",
          "name": "stdout",
          "text": [
            "+--------------+-----------+-------------+-----------+----+-----------------+\n",
            "|     review_id|star_rating|helpful_votes|total_votes|vine|verified_purchase|\n",
            "+--------------+-----------+-------------+-----------+----+-----------------+\n",
            "|R3T6LR4H11XRAN|          5|           26|         26|   N|                Y|\n",
            "|R3QFNFMFWOQIBO|          3|           15|         25|   N|                Y|\n",
            "|R24S2SV0ZIFIMV|          1|           41|         78|   N|                N|\n",
            "|R2QAPWF1M5863L|          1|            5|         23|   N|                N|\n",
            "|R3OCONKYE1A047|          5|           33|         38|   N|                N|\n",
            "|R28WZIA84DUP6C|          2|            4|         43|   N|                N|\n",
            "|R2U7YNJZ5JHWVD|          5|           23|         25|   N|                Y|\n",
            "|R1XVYF74WCJKO3|          1|           47|         49|   N|                N|\n",
            "|R3KKWNG5VABDYC|          5|           31|         32|   Y|                N|\n",
            "|R3KK9MHFLY2BVW|          5|           21|         22|   N|                N|\n",
            "|R2OEP8MGX5K370|          5|           30|         34|   N|                Y|\n",
            "| RTX63ENBKWCXF|          1|           28|         35|   N|                N|\n",
            "|R38I0D0J8O6LB6|          5|          101|        102|   N|                Y|\n",
            "|R16H89H2ZPISOL|          5|           66|         73|   N|                Y|\n",
            "|R1O92J5SV8J8G6|          5|          100|        102|   N|                Y|\n",
            "|R2N899RTMS7B7A|          1|           14|         20|   N|                Y|\n",
            "| RNRGC6W09WQM2|          1|            0|         45|   N|                Y|\n",
            "|R1FB2TRCTRIWWL|          1|            3|         20|   N|                N|\n",
            "| RO7NYOSZ65X1T|          1|            1|         76|   N|                N|\n",
            "|R2D9XX1FUD30NT|          1|           21|        213|   N|                N|\n",
            "+--------------+-----------+-------------+-----------+----+-----------------+\n",
            "only showing top 20 rows\n",
            "\n"
          ]
        }
      ]
    },
    {
      "cell_type": "code",
      "source": [
        "# filter DataFrame to retrieve all rows where the number of helpful votes divided by total_votes is greater than or equal to 50%\n",
        "helpful_df = substantial_df.filter(\"(helpful_votes/total_votes)>=.5\")\n",
        "helpful_df.show()"
      ],
      "metadata": {
        "colab": {
          "base_uri": "https://localhost:8080/"
        },
        "id": "tRXOnBGxTqxo",
        "outputId": "3f51a212-2b6b-4d27-dc2f-fb7bd9ad83b3"
      },
      "execution_count": 11,
      "outputs": [
        {
          "output_type": "stream",
          "name": "stdout",
          "text": [
            "+--------------+-----------+-------------+-----------+----+-----------------+\n",
            "|     review_id|star_rating|helpful_votes|total_votes|vine|verified_purchase|\n",
            "+--------------+-----------+-------------+-----------+----+-----------------+\n",
            "|R3T6LR4H11XRAN|          5|           26|         26|   N|                Y|\n",
            "|R3QFNFMFWOQIBO|          3|           15|         25|   N|                Y|\n",
            "|R24S2SV0ZIFIMV|          1|           41|         78|   N|                N|\n",
            "|R3OCONKYE1A047|          5|           33|         38|   N|                N|\n",
            "|R2U7YNJZ5JHWVD|          5|           23|         25|   N|                Y|\n",
            "|R1XVYF74WCJKO3|          1|           47|         49|   N|                N|\n",
            "|R3KKWNG5VABDYC|          5|           31|         32|   Y|                N|\n",
            "|R3KK9MHFLY2BVW|          5|           21|         22|   N|                N|\n",
            "|R2OEP8MGX5K370|          5|           30|         34|   N|                Y|\n",
            "| RTX63ENBKWCXF|          1|           28|         35|   N|                N|\n",
            "|R38I0D0J8O6LB6|          5|          101|        102|   N|                Y|\n",
            "|R16H89H2ZPISOL|          5|           66|         73|   N|                Y|\n",
            "|R1O92J5SV8J8G6|          5|          100|        102|   N|                Y|\n",
            "|R2N899RTMS7B7A|          1|           14|         20|   N|                Y|\n",
            "|R2K2D1XN0J8SD5|          4|           19|         21|   N|                Y|\n",
            "| RERKINI37W6KC|          5|           28|         31|   N|                Y|\n",
            "| R9GDG4O1ZK10T|          1|           71|         86|   N|                Y|\n",
            "|R3GOLJQC9OI7D4|          4|           28|         28|   N|                Y|\n",
            "|R37RUX3TXFJN24|          5|           52|         58|   N|                Y|\n",
            "|R1ESSNVJW3N2K4|          5|           42|         45|   N|                Y|\n",
            "+--------------+-----------+-------------+-----------+----+-----------------+\n",
            "only showing top 20 rows\n",
            "\n"
          ]
        }
      ]
    },
    {
      "cell_type": "code",
      "source": [
        "# filter DataFrame to retrieve all rows where a review was written as part of the Vine program (paid)\n",
        "paid_df = helpful_df.filter(\"vine == 'Y'\")\n",
        "paid_df.show()"
      ],
      "metadata": {
        "colab": {
          "base_uri": "https://localhost:8080/"
        },
        "id": "A0anjfEYUZNd",
        "outputId": "f055e663-431f-4c56-9bc5-f0e9280f7514"
      },
      "execution_count": 12,
      "outputs": [
        {
          "output_type": "stream",
          "name": "stdout",
          "text": [
            "+--------------+-----------+-------------+-----------+----+-----------------+\n",
            "|     review_id|star_rating|helpful_votes|total_votes|vine|verified_purchase|\n",
            "+--------------+-----------+-------------+-----------+----+-----------------+\n",
            "|R3KKWNG5VABDYC|          5|           31|         32|   Y|                N|\n",
            "|R397PIJYYVJ7PD|          4|           31|         32|   Y|                N|\n",
            "| RP6Y2CTIFUYD0|          2|           31|         32|   Y|                N|\n",
            "|R1FYRNM5U0S2VZ|          3|           20|         24|   Y|                N|\n",
            "| R1ME19UY4UNAO|          5|           53|         57|   Y|                N|\n",
            "|R1JW7ZHT2VLT1E|          3|           40|         45|   Y|                N|\n",
            "| R98UYXY43TURV|          4|           46|         50|   Y|                N|\n",
            "|R34VXM3EJDS78Z|          3|          374|        410|   Y|                N|\n",
            "|R1QX8UOW5JO6L0|          4|           20|         21|   Y|                N|\n",
            "| R5Y5SXCRQ2GNH|          3|           34|         37|   Y|                N|\n",
            "|R2PBQNQR80F6HP|          4|           20|         20|   Y|                N|\n",
            "|R1YI5U4BF4ZLRQ|          3|           16|         20|   Y|                N|\n",
            "|R1Q5ZXA44R3E76|          4|           28|         31|   Y|                N|\n",
            "| RCLSDAIJR6FUG|          5|          113|        123|   Y|                N|\n",
            "|R30QKO5AIO2828|          5|           17|         20|   Y|                N|\n",
            "|R3TPSU0ZG7K5RA|          5|           34|         37|   Y|                N|\n",
            "|R3HSQ5EH8IIUOM|          4|           49|         63|   Y|                N|\n",
            "|R2L4DAT0DWS9P3|          4|           28|         29|   Y|                N|\n",
            "|R2TSF7WN3DY921|          5|           22|         26|   Y|                N|\n",
            "|R1LY9Y3SS9JCTR|          2|           53|        100|   Y|                N|\n",
            "+--------------+-----------+-------------+-----------+----+-----------------+\n",
            "only showing top 20 rows\n",
            "\n"
          ]
        }
      ]
    },
    {
      "cell_type": "code",
      "source": [
        "# filter DataFrame to retrieve all rows where a review was NOT written as part of the Vine program (unpaid)\n",
        "unpaid_df = helpful_df.filter(\"vine == 'N'\")\n",
        "unpaid_df.show()"
      ],
      "metadata": {
        "colab": {
          "base_uri": "https://localhost:8080/"
        },
        "id": "JsF0KFBtUzMJ",
        "outputId": "ff8c1f9b-aa65-4607-d69c-27a88394f3c7"
      },
      "execution_count": 13,
      "outputs": [
        {
          "output_type": "stream",
          "name": "stdout",
          "text": [
            "+--------------+-----------+-------------+-----------+----+-----------------+\n",
            "|     review_id|star_rating|helpful_votes|total_votes|vine|verified_purchase|\n",
            "+--------------+-----------+-------------+-----------+----+-----------------+\n",
            "|R3T6LR4H11XRAN|          5|           26|         26|   N|                Y|\n",
            "|R3QFNFMFWOQIBO|          3|           15|         25|   N|                Y|\n",
            "|R24S2SV0ZIFIMV|          1|           41|         78|   N|                N|\n",
            "|R3OCONKYE1A047|          5|           33|         38|   N|                N|\n",
            "|R2U7YNJZ5JHWVD|          5|           23|         25|   N|                Y|\n",
            "|R1XVYF74WCJKO3|          1|           47|         49|   N|                N|\n",
            "|R3KK9MHFLY2BVW|          5|           21|         22|   N|                N|\n",
            "|R2OEP8MGX5K370|          5|           30|         34|   N|                Y|\n",
            "| RTX63ENBKWCXF|          1|           28|         35|   N|                N|\n",
            "|R38I0D0J8O6LB6|          5|          101|        102|   N|                Y|\n",
            "|R16H89H2ZPISOL|          5|           66|         73|   N|                Y|\n",
            "|R1O92J5SV8J8G6|          5|          100|        102|   N|                Y|\n",
            "|R2N899RTMS7B7A|          1|           14|         20|   N|                Y|\n",
            "|R2K2D1XN0J8SD5|          4|           19|         21|   N|                Y|\n",
            "| RERKINI37W6KC|          5|           28|         31|   N|                Y|\n",
            "| R9GDG4O1ZK10T|          1|           71|         86|   N|                Y|\n",
            "|R3GOLJQC9OI7D4|          4|           28|         28|   N|                Y|\n",
            "|R37RUX3TXFJN24|          5|           52|         58|   N|                Y|\n",
            "|R1ESSNVJW3N2K4|          5|           42|         45|   N|                Y|\n",
            "|R1Q1VLGAFGHLN7|          2|           78|         85|   N|                Y|\n",
            "+--------------+-----------+-------------+-----------+----+-----------------+\n",
            "only showing top 20 rows\n",
            "\n"
          ]
        }
      ]
    },
    {
      "cell_type": "code",
      "source": [
        "# determine total number of reviews, 5-star reviews, and percentage of 5-star reviews for paid reviews\n",
        "paid_total = paid_df.count()\n",
        "paid_five = paid_df.filter(\"star_rating=5\").count()\n",
        "paid_five_percent = (paid_five/paid_total)*100"
      ],
      "metadata": {
        "id": "OdZ4YqFnVoXs"
      },
      "execution_count": 25,
      "outputs": []
    },
    {
      "cell_type": "code",
      "source": [
        "# display paid results\n",
        "print(\"Paid (Vine) Review Summary\")\n",
        "print(\"======================================================\")\n",
        "print(f\"Total number of paid (Vine) reviews: \\033[1m{paid_total}\\033[0m\")\n",
        "print(f\"Number of paid 5-star reviews: \\033[1m{paid_five}\\033[0m\")\n",
        "print(f\"Percentage of paid reviews with 5-star reviews: \\033[1m{paid_five_percent:.2f}%\\033[0m\")"
      ],
      "metadata": {
        "colab": {
          "base_uri": "https://localhost:8080/"
        },
        "id": "UeP1LP7sYLWp",
        "outputId": "f215b4d9-5ac8-41a6-a096-491b6a2151dc"
      },
      "execution_count": 31,
      "outputs": [
        {
          "output_type": "stream",
          "name": "stdout",
          "text": [
            "Paid (Vine) Review Summary\n",
            "======================================================\n",
            "Total number of paid (Vine) reviews: \u001b[1m5012\u001b[0m\n",
            "Number of paid 5-star reviews: \u001b[1m2031\u001b[0m\n",
            "Percentage of paid reviews with 5-star reviews: \u001b[1m40.52%\u001b[0m\n"
          ]
        }
      ]
    },
    {
      "cell_type": "code",
      "source": [
        "# determine total number of reviews, 5-star reviews, and percentage of 5-star reviews for unpaid reviews\n",
        "unpaid_total = unpaid_df.count()\n",
        "unpaid_five = unpaid_df.filter(\"star_rating=5\").count()\n",
        "unpaid_five_percent = (unpaid_five/unpaid_total)*100"
      ],
      "metadata": {
        "id": "Eah8X1Y3aUDe"
      },
      "execution_count": 27,
      "outputs": []
    },
    {
      "cell_type": "code",
      "source": [
        "# display paid results\n",
        "print(\"Unpaid (Non-Vine) Review Summary\")\n",
        "print(\"======================================================\")\n",
        "print(f\"Total number of unpaid (non-Vine) reviews: \\033[1m{unpaid_total}\\033[0m\")\n",
        "print(f\"Number of unpaid 5-star reviews: \\033[1m{unpaid_five}\\033[0m\")\n",
        "print(f\"Percentage of unpaid reviews with 5-star reviews: \\033[1m{unpaid_five_percent:.2f}%\\033[0m\")"
      ],
      "metadata": {
        "colab": {
          "base_uri": "https://localhost:8080/"
        },
        "id": "MytjK6Fvalsw",
        "outputId": "bebaecea-dcff-4e22-b0c1-70fc368bca0c"
      },
      "execution_count": 32,
      "outputs": [
        {
          "output_type": "stream",
          "name": "stdout",
          "text": [
            "Unpaid (Non-Vine) Review Summary\n",
            "======================================================\n",
            "Total number of unpaid (non-Vine) reviews: \u001b[1m109297\u001b[0m\n",
            "Number of unpaid 5-star reviews: \u001b[1m49967\u001b[0m\n",
            "Percentage of unpaid reviews with 5-star reviews: \u001b[1m45.72%\u001b[0m\n"
          ]
        }
      ]
    },
    {
      "cell_type": "markdown",
      "source": [
        "# Additional Analysis"
      ],
      "metadata": {
        "id": "JwuvTAFFmJK_"
      }
    },
    {
      "cell_type": "code",
      "source": [
        "# determine how many one star reviews are paid (and the percent)\n",
        "paid_one = paid_df.filter(\"star_rating=1\").count()\n",
        "paid_one_percent = (paid_one/paid_total)*100"
      ],
      "metadata": {
        "id": "qVUTakQFmKyv"
      },
      "execution_count": 36,
      "outputs": []
    },
    {
      "cell_type": "code",
      "source": [
        "# display paid, 1-Star results\n",
        "print(f\"Total number of paid (Vine) reviews: \\033[1m{paid_total}\\033[0m\")\n",
        "print(f\"Number of paid 1-star reviews: \\033[1m{paid_one}\\033[0m\")\n",
        "print(f\"Percentage of paid reviews with 1-star reviews: \\033[1m{paid_one_percent:.2f}%\\033[0m\")"
      ],
      "metadata": {
        "colab": {
          "base_uri": "https://localhost:8080/"
        },
        "id": "RF1rDjLwo6KI",
        "outputId": "ba65308f-407d-483e-b811-876580fc8c5a"
      },
      "execution_count": 37,
      "outputs": [
        {
          "output_type": "stream",
          "name": "stdout",
          "text": [
            "Total number of paid (Vine) reviews: \u001b[1m5012\u001b[0m\n",
            "Number of paid 1-star reviews: \u001b[1m217\u001b[0m\n",
            "Percentage of paid reviews with 1-star reviews: \u001b[1m4.33%\u001b[0m\n"
          ]
        }
      ]
    },
    {
      "cell_type": "code",
      "source": [
        "# determine how many one star reviews are unpaid (and the percent)\n",
        "unpaid_one = unpaid_df.filter(\"star_rating=1\").count()\n",
        "unpaid_one_percent = (unpaid_one/unpaid_total)*100"
      ],
      "metadata": {
        "id": "ZoQcGqq3pLf1"
      },
      "execution_count": 38,
      "outputs": []
    },
    {
      "cell_type": "code",
      "source": [
        "# display unpaid, 1-Star results\n",
        "print(f\"Total number of unpaid (non-Vine) reviews: \\033[1m{unpaid_total}\\033[0m\")\n",
        "print(f\"Number of unpaid 1-star reviews: \\033[1m{unpaid_one}\\033[0m\")\n",
        "print(f\"Percentage of unpaid reviews with 1-star reviews: \\033[1m{unpaid_one_percent:.2f}%\\033[0m\")"
      ],
      "metadata": {
        "colab": {
          "base_uri": "https://localhost:8080/"
        },
        "id": "QMhgH_vlpMuJ",
        "outputId": "1feb83e9-142c-4b3d-8dbe-68f360e7960a"
      },
      "execution_count": 39,
      "outputs": [
        {
          "output_type": "stream",
          "name": "stdout",
          "text": [
            "Total number of unpaid (non-Vine) reviews: \u001b[1m109297\u001b[0m\n",
            "Number of unpaid 1-star reviews: \u001b[1m28845\u001b[0m\n",
            "Percentage of unpaid reviews with 1-star reviews: \u001b[1m26.39%\u001b[0m\n"
          ]
        }
      ]
    }
  ]
}