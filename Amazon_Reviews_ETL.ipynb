{
  "nbformat": 4,
  "nbformat_minor": 0,
  "metadata": {
    "colab": {
      "name": "Amazon_Reviews_ETL.ipynb",
      "provenance": [],
      "collapsed_sections": [],
      "include_colab_link": true
    },
    "kernelspec": {
      "name": "python3",
      "display_name": "Python 3"
    },
    "nteract": {
      "version": "0.12.3"
    },
    "language_info": {
      "name": "python"
    }
  },
  "cells": [
    {
      "cell_type": "markdown",
      "metadata": {
        "id": "view-in-github",
        "colab_type": "text"
      },
      "source": [
        "<a href=\"https://colab.research.google.com/github/Jeffstr00/Amazon_Vine_Analysis/blob/main/Amazon_Reviews_ETL.ipynb\" target=\"_parent\"><img src=\"https://colab.research.google.com/assets/colab-badge.svg\" alt=\"Open In Colab\"/></a>"
      ]
    },
    {
      "cell_type": "code",
      "metadata": {
        "id": "V58rxea0HqSa",
        "colab": {
          "base_uri": "https://localhost:8080/"
        },
        "outputId": "7cb7ad13-5613-47ca-ef2a-d49a29e6d15b"
      },
      "source": [
        "import os\n",
        "# Find the latest version of spark 3.0 from http://www.apache.org/dist/spark/ and enter as the spark version\n",
        "# For example:\n",
        "# spark_version = 'spark-3.0.3'\n",
        "spark_version = 'spark-3.0.3'\n",
        "os.environ['SPARK_VERSION']=spark_version\n",
        "\n",
        "# Install Spark and Java\n",
        "!apt-get update\n",
        "!apt-get install openjdk-11-jdk-headless -qq > /dev/null\n",
        "!wget -q http://www.apache.org/dist/spark/$SPARK_VERSION/$SPARK_VERSION-bin-hadoop2.7.tgz\n",
        "!tar xf $SPARK_VERSION-bin-hadoop2.7.tgz\n",
        "!pip install -q findspark\n",
        "\n",
        "# Set Environment Variables\n",
        "import os\n",
        "os.environ[\"JAVA_HOME\"] = \"/usr/lib/jvm/java-11-openjdk-amd64\"\n",
        "os.environ[\"SPARK_HOME\"] = f\"/content/{spark_version}-bin-hadoop2.7\"\n",
        "\n",
        "# Start a SparkSession\n",
        "import findspark\n",
        "findspark.init()"
      ],
      "execution_count": null,
      "outputs": [
        {
          "output_type": "stream",
          "name": "stdout",
          "text": [
            "\r0% [Working]\r            \rHit:1 https://cloud.r-project.org/bin/linux/ubuntu bionic-cran40/ InRelease\n",
            "Ign:2 https://developer.download.nvidia.com/compute/cuda/repos/ubuntu1804/x86_64  InRelease\n",
            "Ign:3 https://developer.download.nvidia.com/compute/machine-learning/repos/ubuntu1804/x86_64  InRelease\n",
            "Hit:4 https://developer.download.nvidia.com/compute/cuda/repos/ubuntu1804/x86_64  Release\n",
            "Hit:5 https://developer.download.nvidia.com/compute/machine-learning/repos/ubuntu1804/x86_64  Release\n",
            "Hit:6 http://archive.ubuntu.com/ubuntu bionic InRelease\n",
            "Hit:7 http://archive.ubuntu.com/ubuntu bionic-updates InRelease\n",
            "Hit:8 http://ppa.launchpad.net/c2d4u.team/c2d4u4.0+/ubuntu bionic InRelease\n",
            "Hit:9 http://security.ubuntu.com/ubuntu bionic-security InRelease\n",
            "Hit:10 http://archive.ubuntu.com/ubuntu bionic-backports InRelease\n",
            "Hit:11 http://ppa.launchpad.net/cran/libgit2/ubuntu bionic InRelease\n",
            "Hit:13 http://ppa.launchpad.net/deadsnakes/ppa/ubuntu bionic InRelease\n",
            "Hit:15 http://ppa.launchpad.net/graphics-drivers/ppa/ubuntu bionic InRelease\n",
            "Reading package lists... Done\n"
          ]
        }
      ]
    },
    {
      "cell_type": "code",
      "metadata": {
        "id": "_xKwTpATHqSe",
        "colab": {
          "base_uri": "https://localhost:8080/"
        },
        "outputId": "b2848180-2b50-4101-e6c1-e15c98a5e3bb"
      },
      "source": [
        "# Download the Postgres driver that will allow Spark to interact with Postgres.\n",
        "!wget https://jdbc.postgresql.org/download/postgresql-42.2.16.jar"
      ],
      "execution_count": null,
      "outputs": [
        {
          "output_type": "stream",
          "name": "stdout",
          "text": [
            "--2022-04-03 01:19:06--  https://jdbc.postgresql.org/download/postgresql-42.2.16.jar\n",
            "Resolving jdbc.postgresql.org (jdbc.postgresql.org)... 72.32.157.228, 2001:4800:3e1:1::228\n",
            "Connecting to jdbc.postgresql.org (jdbc.postgresql.org)|72.32.157.228|:443... connected.\n",
            "HTTP request sent, awaiting response... 200 OK\n",
            "Length: 1002883 (979K) [application/java-archive]\n",
            "Saving to: ‘postgresql-42.2.16.jar.3’\n",
            "\n",
            "postgresql-42.2.16. 100%[===================>] 979.38K  4.96MB/s    in 0.2s    \n",
            "\n",
            "2022-04-03 01:19:07 (4.96 MB/s) - ‘postgresql-42.2.16.jar.3’ saved [1002883/1002883]\n",
            "\n"
          ]
        }
      ]
    },
    {
      "cell_type": "code",
      "metadata": {
        "id": "MMqDAjVS0KN9"
      },
      "source": [
        "# Import SparkSession\n",
        "from pyspark.sql import SparkSession\n",
        "spark = SparkSession.builder.appName(\"M16-Amazon-Challenge\").config(\"spark.driver.extraClassPath\",\"/content/postgresql-42.2.16.jar\").getOrCreate()"
      ],
      "execution_count": null,
      "outputs": []
    },
    {
      "cell_type": "markdown",
      "metadata": {
        "id": "cyBsySGuY-9V"
      },
      "source": [
        "### Load Amazon Data into Spark DataFrame"
      ]
    },
    {
      "cell_type": "code",
      "metadata": {
        "id": "CtCmBhQJY-9Z",
        "colab": {
          "base_uri": "https://localhost:8080/"
        },
        "outputId": "821b3d69-e11a-41a1-99f7-12ccd7ec6f6c"
      },
      "source": [
        "# Read in the review set from S3 as a DataFrame\n",
        "from pyspark import SparkFiles\n",
        "url = \"https://jeffstr00-bucket.s3.amazonaws.com/amazon_reviews_us_Books_v1_00.tsv\"\n",
        "spark.sparkContext.addFile(url)\n",
        "df = spark.read.option(\"encoding\", \"UTF-8\").csv(SparkFiles.get(\"\"), sep=\"\\t\", header=True, inferSchema=True)\n",
        "df.show()"
      ],
      "execution_count": null,
      "outputs": [
        {
          "output_type": "stream",
          "name": "stdout",
          "text": [
            "+-----------+-----------+--------------+----------+--------------+--------------------+----------------+-----------+-------------+-----------+----+-----------------+--------------------+--------------------+-----------+\n",
            "|marketplace|customer_id|     review_id|product_id|product_parent|       product_title|product_category|star_rating|helpful_votes|total_votes|vine|verified_purchase|     review_headline|         review_body|review_date|\n",
            "+-----------+-----------+--------------+----------+--------------+--------------------+----------------+-----------+-------------+-----------+----+-----------------+--------------------+--------------------+-----------+\n",
            "|         US|   25933450| RJOVP071AVAJO|0439873800|      84656342|There Was an Old ...|           Books|          5|            0|          0|   N|                Y|          Five Stars|I love it and so ...| 2015-08-31|\n",
            "|         US|    1801372|R1ORGBETCDW3AI|1623953553|     729938122|      I Saw a Friend|           Books|          5|            0|          0|   N|                Y|Please buy \"I Saw...|My wife and I ord...| 2015-08-31|\n",
            "|         US|    5782091| R7TNRFQAOUTX5|142151981X|     678139048|Black Lagoon, Vol. 6|           Books|          5|            0|          0|   N|                Y|       Shipped fast.|Great book just l...| 2015-08-31|\n",
            "|         US|   32715830|R2GANXKDIFZ6OI|014241543X|     712432151|           If I Stay|           Books|          5|            0|          0|   N|                N|          Five Stars|        So beautiful| 2015-08-31|\n",
            "|         US|   14005703|R2NYB6C3R8LVN6|1604600527|     800572372|Stars 'N Strips F...|           Books|          5|            2|          2|   N|                Y|          Five Stars|Enjoyed the autho...| 2015-08-31|\n",
            "|         US|   36205738|R13U5PBJI1H94K|0399170863|     559876774|            The Liar|           Books|          2|            1|          1|   N|                N|PREDICTABLE ALMOS...|Two or three page...| 2015-08-31|\n",
            "|         US|   44121167|R1H8UVH990F8VE|1517007240|     299984591|Devil in the Deta...|           Books|          5|            2|          2|   N|                N|The Monastery Mur...|&#34;Secrets in t...| 2015-08-31|\n",
            "|         US|   16519255|R2MC0N30WZMRQ5|0671728725|     821650353|Knowing When to S...|           Books|          5|            0|          0|   N|                Y|          Five Stars|          I love it!| 2015-08-31|\n",
            "|         US|   49361350| R2NO2HXK16Y4J|1111349533|     419457767|The American Pageant|           Books|          5|            0|          0|   N|                Y|          Five Stars|It was a great pu...| 2015-08-31|\n",
            "|         US|   11423253|R245YIAVJK82ZL|812211637X|     285887177|Punjabi C.L. Bibl...|           Books|          5|            0|          0|   N|                Y|          Five Stars|Quality product f...| 2015-08-31|\n",
            "|         US|   37536260| RFBMLBWQOZ1UM|0679413359|      58983679|The Aeneid (Every...|           Books|          5|            0|          0|   N|                Y|          Five Stars|          Very happy| 2015-08-31|\n",
            "|         US|   23614950| RHE1FEWV3KTQH|0983990662|     222024699|The YMCA of Middl...|           Books|          5|            0|          0|   N|                Y|Great history boo...|Love reading all ...| 2015-08-31|\n",
            "|         US|   12641855|R2BB9U7PHO7ETO|156852062X|     388128348|Memoirs By Harry ...|           Books|          5|            0|          1|   N|                Y|          Five Stars|such a great purc...| 2015-08-31|\n",
            "|         US|   36327169|R28XJJP754GYXO|B0007E4WJ4|     842975364|Arms of our fight...|           Books|          4|            0|          0|   N|                Y|          Four Stars|book was fine Tha...| 2015-08-31|\n",
            "|         US|   49735028|R2G519UREHRO8M|0664254969|     248307276|Presbyterian Cree...|           Books|          3|            0|          1|   N|                Y|The Presbyterian ...|The Presbyterian ...| 2015-08-31|\n",
            "|         US|   39348901| RPBKCEIN3UISD|1570913722|       9340721|Hello Ocean/Hola mar|           Books|          5|            0|          0|   N|                Y|          Five Stars|beautiful work an...| 2015-08-31|\n",
            "|         US|    5782091|R2DOB8482VGJ8W|0345313860|     630892090|The Vampire Lesta...|           Books|          5|            0|          0|   N|                Y|       Shipped fast.|This is my favori...| 2015-08-31|\n",
            "|         US|   30063158|R2XKOET5M8W36S|0670025593|     479521754|The Book of Life ...|           Books|          5|            0|          0|   N|                Y|One of my favorites!|Love Deborah Harn...| 2015-08-31|\n",
            "|         US|     125518|R377BCSTZ4D2QP|161893158X|     399670838|Disney Descendant...|           Books|          5|            1|          1|   N|                Y|... has all three...|Now my daughter h...| 2015-08-31|\n",
            "|         US|   22297413|R3A39XZ5SB97MK|007179512X|      47243107|CompTIA A+ Certif...|           Books|          5|            0|          0|   N|                Y|He said it has be...|Bought this book ...| 2015-08-31|\n",
            "+-----------+-----------+--------------+----------+--------------+--------------------+----------------+-----------+-------------+-----------+----+-----------------+--------------------+--------------------+-----------+\n",
            "only showing top 20 rows\n",
            "\n"
          ]
        }
      ]
    },
    {
      "cell_type": "code",
      "source": [
        "# Check to see what type columns are in so that they will ultimately match with postgres schema\n",
        "df.schema"
      ],
      "metadata": {
        "id": "3MLoMslxPbST",
        "colab": {
          "base_uri": "https://localhost:8080/"
        },
        "outputId": "47eb1916-1691-4db1-8800-162a25d6f2aa"
      },
      "execution_count": null,
      "outputs": [
        {
          "output_type": "execute_result",
          "data": {
            "text/plain": [
              "StructType(List(StructField(marketplace,StringType,true),StructField(customer_id,IntegerType,true),StructField(review_id,StringType,true),StructField(product_id,StringType,true),StructField(product_parent,IntegerType,true),StructField(product_title,StringType,true),StructField(product_category,StringType,true),StructField(star_rating,StringType,true),StructField(helpful_votes,IntegerType,true),StructField(total_votes,IntegerType,true),StructField(vine,StringType,true),StructField(verified_purchase,StringType,true),StructField(review_headline,StringType,true),StructField(review_body,StringType,true),StructField(review_date,StringType,true)))"
            ]
          },
          "metadata": {},
          "execution_count": 9
        }
      ]
    },
    {
      "cell_type": "code",
      "source": [
        "# Change Star Rating column from string to integer\n",
        "from pyspark.sql.types import IntegerType\n",
        "df = df.withColumn(\"star_ratingTmp\", df[\"star_rating\"].cast(IntegerType())).drop(\"star_rating\").withColumnRenamed(\"star_ratingTmp\", \"star_rating\")\n",
        "# Rearrange columns so that Star Rating is back in place\n",
        "df = df.select(\"marketplace\", \"customer_id\", \"review_id\", \"product_id\", \"product_parent\", \"product_title\", \"product_category\", \"star_rating\", \"helpful_votes\", \"total_votes\", \"vine\", \"verified_purchase\", \"review_headline\", \"review_body\", \"review_date\")\n",
        "df.schema"
      ],
      "metadata": {
        "id": "BftFee5PPceL",
        "colab": {
          "base_uri": "https://localhost:8080/"
        },
        "outputId": "d3f0c8e1-b270-4b0c-c561-63981a51686d"
      },
      "execution_count": null,
      "outputs": [
        {
          "output_type": "execute_result",
          "data": {
            "text/plain": [
              "StructType(List(StructField(marketplace,StringType,true),StructField(customer_id,IntegerType,true),StructField(review_id,StringType,true),StructField(product_id,StringType,true),StructField(product_parent,IntegerType,true),StructField(product_title,StringType,true),StructField(product_category,StringType,true),StructField(star_rating,IntegerType,true),StructField(helpful_votes,IntegerType,true),StructField(total_votes,IntegerType,true),StructField(vine,StringType,true),StructField(verified_purchase,StringType,true),StructField(review_headline,StringType,true),StructField(review_body,StringType,true),StructField(review_date,StringType,true)))"
            ]
          },
          "metadata": {},
          "execution_count": 10
        }
      ]
    },
    {
      "cell_type": "markdown",
      "metadata": {
        "id": "2yUSe55VY-9t"
      },
      "source": [
        "### Create DataFrames to match tables"
      ]
    },
    {
      "cell_type": "code",
      "metadata": {
        "id": "C8REmY1aY-9u"
      },
      "source": [
        "# Import to_date function\n",
        "from pyspark.sql.functions import to_date"
      ],
      "execution_count": null,
      "outputs": []
    },
    {
      "cell_type": "code",
      "metadata": {
        "id": "B0TESUDRY-90",
        "colab": {
          "base_uri": "https://localhost:8080/"
        },
        "outputId": "d07cfdd8-ef5d-46a3-a8f0-e3c55b96bd23"
      },
      "source": [
        "# Create the customers_table DataFrame\n",
        "from pyspark.sql.functions import count\n",
        "# customers_df = df.groupby(\"\").agg({\"\"}).withColumnRenamed(\"\", \"customer_count\")\n",
        "customers_df = df.groupby(\"customer_id\").agg(count('customer_id')).withColumnRenamed(\"count(customer_id)\", \"customer_count\")\n",
        "customers_df.show()"
      ],
      "execution_count": null,
      "outputs": [
        {
          "output_type": "stream",
          "name": "stdout",
          "text": [
            "+-----------+--------------+\n",
            "|customer_id|customer_count|\n",
            "+-----------+--------------+\n",
            "|   16747249|             4|\n",
            "|     108460|             1|\n",
            "|   11720077|            31|\n",
            "|     437936|             1|\n",
            "|     128131|             1|\n",
            "|   39647402|             1|\n",
            "|   13730111|             8|\n",
            "|   43783459|             1|\n",
            "|   12493167|           111|\n",
            "|   40325486|            92|\n",
            "|   44618558|             4|\n",
            "|   17956020|             1|\n",
            "|   10093406|             3|\n",
            "|   40430762|             1|\n",
            "|     134924|             1|\n",
            "|   52427934|             1|\n",
            "|   12879980|            15|\n",
            "|   27680937|             7|\n",
            "|   16186289|             1|\n",
            "|   20326078|             1|\n",
            "+-----------+--------------+\n",
            "only showing top 20 rows\n",
            "\n"
          ]
        }
      ]
    },
    {
      "cell_type": "code",
      "source": [
        "# check to see how many rows are in Customers DF\n",
        "customers_df.count()"
      ],
      "metadata": {
        "id": "1cqJ3BTV8eCS",
        "colab": {
          "base_uri": "https://localhost:8080/"
        },
        "outputId": "8e909255-fb8d-4ac2-fea9-109077750dcf"
      },
      "execution_count": null,
      "outputs": [
        {
          "output_type": "execute_result",
          "data": {
            "text/plain": [
              "4632497"
            ]
          },
          "metadata": {},
          "execution_count": 13
        }
      ]
    },
    {
      "cell_type": "code",
      "metadata": {
        "id": "4FwXA6UvY-96",
        "colab": {
          "base_uri": "https://localhost:8080/"
        },
        "outputId": "cc45fdba-c59d-4781-e0ee-9292ba5c1b52"
      },
      "source": [
        "# Create the products_table DataFrame and drop duplicates. \n",
        "# products_df = df.select([]).drop_duplicates()\n",
        "# products_df = df.select([\"product_id\", \"product_title\"]).drop_duplicates(([\"product_id\"]))\n",
        "# check to see how many products there are before dropping unique titles, to ensure that duplicates are being dropped\n",
        "products_df = df.select([\"product_id\", \"product_title\"])\n",
        "products_df.count()"
      ],
      "execution_count": null,
      "outputs": [
        {
          "output_type": "execute_result",
          "data": {
            "text/plain": [
              "10319090"
            ]
          },
          "metadata": {},
          "execution_count": 14
        }
      ]
    },
    {
      "cell_type": "code",
      "source": [
        "# drop duplicate Product IDs and then count\n",
        "products_df = products_df.drop_duplicates(([\"product_id\"]))\n",
        "products_df.count()"
      ],
      "metadata": {
        "id": "9gPCYNXo9TNY",
        "colab": {
          "base_uri": "https://localhost:8080/"
        },
        "outputId": "8b74d446-e952-4f40-f49d-f6086fbafc3a"
      },
      "execution_count": null,
      "outputs": [
        {
          "output_type": "execute_result",
          "data": {
            "text/plain": [
              "2274543"
            ]
          },
          "metadata": {},
          "execution_count": 15
        }
      ]
    },
    {
      "cell_type": "code",
      "source": [
        "# show Products DF\n",
        "products_df.show()"
      ],
      "metadata": {
        "id": "PIlSexicAGSK",
        "colab": {
          "base_uri": "https://localhost:8080/"
        },
        "outputId": "9de45ca0-9ab0-443a-cfd1-80c275289ecd"
      },
      "execution_count": null,
      "outputs": [
        {
          "output_type": "stream",
          "name": "stdout",
          "text": [
            "+----------+--------------------+\n",
            "|product_id|       product_title|\n",
            "+----------+--------------------+\n",
            "|0001845357|    Ballad of Favour|\n",
            "|0002168383|The Beatles: For ...|\n",
            "|0002192365| Cage & Aviary Birds|\n",
            "|0002216973|     Red Adam's Lady|\n",
            "|0002230534|A single death: A...|\n",
            "|0002234947|Miss Hobbema Pageant|\n",
            "|0002261367|Unexpected Blessings|\n",
            "|0006541151|Order Out of Chao...|\n",
            "|0006544150|           In Xanadu|\n",
            "|0006726372|I'll Go My Own Wa...|\n",
            "|0006925227|The Vanishing Tre...|\n",
            "|0007121040|Miss Marple's Fin...|\n",
            "|0007155174|The Treasure Hunt...|\n",
            "|000717201X|The Lord of the R...|\n",
            "|0007178484|Reading \"Lolita\" ...|\n",
            "|000718025X|Akbar and Jeff's ...|\n",
            "|0007219040|The Secret Langua...|\n",
            "|0007236093|  Dead Witch Walking|\n",
            "|0007243626|The Yacoubian Bui...|\n",
            "|0007255349|The Mobile Librar...|\n",
            "+----------+--------------------+\n",
            "only showing top 20 rows\n",
            "\n"
          ]
        }
      ]
    },
    {
      "cell_type": "code",
      "source": [
        "products_df.tail(5)"
      ],
      "metadata": {
        "id": "dz9pajPM4_Nz",
        "colab": {
          "base_uri": "https://localhost:8080/"
        },
        "outputId": "08389009-aaef-4912-ab88-1e9823c73c2e"
      },
      "execution_count": null,
      "outputs": [
        {
          "output_type": "execute_result",
          "data": {
            "text/plain": [
              "[Row(product_id='B010EW8DZM', product_title='Schliemann of Troy: Treasure and Deceit'),\n",
              " Row(product_id='B010WNU2Z2', product_title='[ The Chase of the Golden Meteor (Bison Book) [ THE CHASE OF THE GOLDEN METEOR (BISON BOOK) ] By Verne, Jules ( Author )Oct-01-1998 Paperback By Verne, Jules ( Author ) Paperback 1998 ]'),\n",
              " Row(product_id='B011MEPJCG', product_title='Dead Wrong 2: Diana, Princess of Wales by Belzer, Richard, Wayne, David (2013) Paperback'),\n",
              " Row(product_id='B011T6XNNY', product_title='The Final Minute: (Tina Boyd 6) by Simon Kernick (15-Jan-2015) Hardcover'),\n",
              " Row(product_id='B011YTPMAI', product_title='Real Food for Rookies: Healthy Cooking - Traditional Food - Vibrant Health by Moeggenborg, Kelly (2015) Paperback')]"
            ]
          },
          "metadata": {},
          "execution_count": 17
        }
      ]
    },
    {
      "cell_type": "code",
      "metadata": {
        "id": "MkqyCuNQY-9-",
        "colab": {
          "base_uri": "https://localhost:8080/"
        },
        "outputId": "d788dd05-d93d-4e5f-b41c-e53d579df28d"
      },
      "source": [
        "# Create the review_id_table DataFrame. \n",
        "# Convert the 'review_date' column to a date datatype with to_date(\"review_date\", 'yyyy-MM-dd').alias(\"review_date\")\n",
        "# review_id_df = df.select([, to_date(\"review_date\", 'yyyy-MM-dd').alias(\"review_date\")])\n",
        "review_id_df = df.select([\"review_id\", \"customer_id\", \"product_id\", \"product_parent\", to_date(\"review_date\", \"yyyy-MM-dd\").alias(\"review_date\")])\n",
        "review_id_df.show()"
      ],
      "execution_count": null,
      "outputs": [
        {
          "output_type": "stream",
          "name": "stdout",
          "text": [
            "+--------------+-----------+----------+--------------+-----------+\n",
            "|     review_id|customer_id|product_id|product_parent|review_date|\n",
            "+--------------+-----------+----------+--------------+-----------+\n",
            "| RJOVP071AVAJO|   25933450|0439873800|      84656342| 2015-08-31|\n",
            "|R1ORGBETCDW3AI|    1801372|1623953553|     729938122| 2015-08-31|\n",
            "| R7TNRFQAOUTX5|    5782091|142151981X|     678139048| 2015-08-31|\n",
            "|R2GANXKDIFZ6OI|   32715830|014241543X|     712432151| 2015-08-31|\n",
            "|R2NYB6C3R8LVN6|   14005703|1604600527|     800572372| 2015-08-31|\n",
            "|R13U5PBJI1H94K|   36205738|0399170863|     559876774| 2015-08-31|\n",
            "|R1H8UVH990F8VE|   44121167|1517007240|     299984591| 2015-08-31|\n",
            "|R2MC0N30WZMRQ5|   16519255|0671728725|     821650353| 2015-08-31|\n",
            "| R2NO2HXK16Y4J|   49361350|1111349533|     419457767| 2015-08-31|\n",
            "|R245YIAVJK82ZL|   11423253|812211637X|     285887177| 2015-08-31|\n",
            "| RFBMLBWQOZ1UM|   37536260|0679413359|      58983679| 2015-08-31|\n",
            "| RHE1FEWV3KTQH|   23614950|0983990662|     222024699| 2015-08-31|\n",
            "|R2BB9U7PHO7ETO|   12641855|156852062X|     388128348| 2015-08-31|\n",
            "|R28XJJP754GYXO|   36327169|B0007E4WJ4|     842975364| 2015-08-31|\n",
            "|R2G519UREHRO8M|   49735028|0664254969|     248307276| 2015-08-31|\n",
            "| RPBKCEIN3UISD|   39348901|1570913722|       9340721| 2015-08-31|\n",
            "|R2DOB8482VGJ8W|    5782091|0345313860|     630892090| 2015-08-31|\n",
            "|R2XKOET5M8W36S|   30063158|0670025593|     479521754| 2015-08-31|\n",
            "|R377BCSTZ4D2QP|     125518|161893158X|     399670838| 2015-08-31|\n",
            "|R3A39XZ5SB97MK|   22297413|007179512X|      47243107| 2015-08-31|\n",
            "+--------------+-----------+----------+--------------+-----------+\n",
            "only showing top 20 rows\n",
            "\n"
          ]
        }
      ]
    },
    {
      "cell_type": "code",
      "source": [
        "# count rows in Review ID DF\n",
        "review_id_df.count()"
      ],
      "metadata": {
        "id": "m0UIxXK_Aiha",
        "colab": {
          "base_uri": "https://localhost:8080/"
        },
        "outputId": "0755592e-dbb5-4723-9603-182039934601"
      },
      "execution_count": null,
      "outputs": [
        {
          "output_type": "execute_result",
          "data": {
            "text/plain": [
              "10319090"
            ]
          },
          "metadata": {},
          "execution_count": 19
        }
      ]
    },
    {
      "cell_type": "code",
      "metadata": {
        "id": "lzMmkdKmY--D",
        "colab": {
          "base_uri": "https://localhost:8080/"
        },
        "outputId": "095d5b69-f859-4168-f999-2be6a54d6218"
      },
      "source": [
        "# Create the vine_table. DataFrame\n",
        "# vine_df = df.select([])\n",
        "vine_df = df.select([\"review_id\", \"star_rating\", \"helpful_votes\", \"total_votes\", \"vine\", \"verified_purchase\"])\n",
        "vine_df.show()"
      ],
      "execution_count": null,
      "outputs": [
        {
          "output_type": "stream",
          "name": "stdout",
          "text": [
            "+--------------+-----------+-------------+-----------+----+-----------------+\n",
            "|     review_id|star_rating|helpful_votes|total_votes|vine|verified_purchase|\n",
            "+--------------+-----------+-------------+-----------+----+-----------------+\n",
            "| RJOVP071AVAJO|          5|            0|          0|   N|                Y|\n",
            "|R1ORGBETCDW3AI|          5|            0|          0|   N|                Y|\n",
            "| R7TNRFQAOUTX5|          5|            0|          0|   N|                Y|\n",
            "|R2GANXKDIFZ6OI|          5|            0|          0|   N|                N|\n",
            "|R2NYB6C3R8LVN6|          5|            2|          2|   N|                Y|\n",
            "|R13U5PBJI1H94K|          2|            1|          1|   N|                N|\n",
            "|R1H8UVH990F8VE|          5|            2|          2|   N|                N|\n",
            "|R2MC0N30WZMRQ5|          5|            0|          0|   N|                Y|\n",
            "| R2NO2HXK16Y4J|          5|            0|          0|   N|                Y|\n",
            "|R245YIAVJK82ZL|          5|            0|          0|   N|                Y|\n",
            "| RFBMLBWQOZ1UM|          5|            0|          0|   N|                Y|\n",
            "| RHE1FEWV3KTQH|          5|            0|          0|   N|                Y|\n",
            "|R2BB9U7PHO7ETO|          5|            0|          1|   N|                Y|\n",
            "|R28XJJP754GYXO|          4|            0|          0|   N|                Y|\n",
            "|R2G519UREHRO8M|          3|            0|          1|   N|                Y|\n",
            "| RPBKCEIN3UISD|          5|            0|          0|   N|                Y|\n",
            "|R2DOB8482VGJ8W|          5|            0|          0|   N|                Y|\n",
            "|R2XKOET5M8W36S|          5|            0|          0|   N|                Y|\n",
            "|R377BCSTZ4D2QP|          5|            1|          1|   N|                Y|\n",
            "|R3A39XZ5SB97MK|          5|            0|          0|   N|                Y|\n",
            "+--------------+-----------+-------------+-----------+----+-----------------+\n",
            "only showing top 20 rows\n",
            "\n"
          ]
        }
      ]
    },
    {
      "cell_type": "code",
      "source": [
        "# count number of rows in Vine DF\n",
        "vine_df.count()"
      ],
      "metadata": {
        "id": "hukguavTA7ln",
        "colab": {
          "base_uri": "https://localhost:8080/"
        },
        "outputId": "4fab2987-a916-458c-a91c-3be9aea8d87d"
      },
      "execution_count": null,
      "outputs": [
        {
          "output_type": "execute_result",
          "data": {
            "text/plain": [
              "10319090"
            ]
          },
          "metadata": {},
          "execution_count": 21
        }
      ]
    },
    {
      "cell_type": "markdown",
      "metadata": {
        "id": "jITZhLkmY--J"
      },
      "source": [
        "### Connect to the AWS RDS instance and write each DataFrame to its table. "
      ]
    },
    {
      "cell_type": "code",
      "metadata": {
        "id": "7jiUvs1aY--L"
      },
      "source": [
        "# Store environmental variable\n",
        "from getpass import getpass\n",
        "password = getpass('Enter database password:')\n",
        "# Configure settings for RDS\n",
        "mode = \"append\"\n",
        "\n",
        "jdbc_url=\"jdbc:postgresql://datachallenge.c326vl9oo2i8.us-east-1.rds.amazonaws.com:5432/postgres\"\n",
        "config = {\"user\":\"postgres\", \n",
        "          \"password\": password, \n",
        "          \"driver\":\"org.postgresql.Driver\"}"
      ],
      "execution_count": null,
      "outputs": []
    },
    {
      "cell_type": "code",
      "metadata": {
        "id": "T2zgZ-aKY--Q"
      },
      "source": [
        "# Write review_id_df to table in RDS\n",
        "review_id_df.write.jdbc(url=jdbc_url, table='review_id_table', mode=mode, properties=config)"
      ],
      "execution_count": null,
      "outputs": []
    },
    {
      "cell_type": "code",
      "metadata": {
        "id": "1m3yzn-LY--U"
      },
      "source": [
        "# Write products_df to table in RDS\n",
        "# 8 mins\n",
        "products_df.write.jdbc(url=jdbc_url, table='products_table', mode=mode, properties=config)"
      ],
      "execution_count": null,
      "outputs": []
    },
    {
      "cell_type": "code",
      "metadata": {
        "id": "KbXri15fY--Z"
      },
      "source": [
        "# Write customers_df to table in RDS\n",
        "customers_df.write.jdbc(url=jdbc_url, table='customers_table', mode=mode, properties=config)"
      ],
      "execution_count": null,
      "outputs": []
    },
    {
      "cell_type": "code",
      "metadata": {
        "id": "XdQknSHLY--e"
      },
      "source": [
        "# Write vine_df to table in RDS\n",
        "vine_df.write.jdbc(url=jdbc_url, table='vine_table', mode=mode, properties=config)"
      ],
      "execution_count": null,
      "outputs": []
    }
  ]
}